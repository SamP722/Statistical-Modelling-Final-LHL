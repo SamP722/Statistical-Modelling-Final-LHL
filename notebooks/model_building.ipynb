{
 "cells": [
  {
   "cell_type": "markdown",
   "metadata": {},
   "source": [
    "Build a regression model."
   ]
  },
  {
   "cell_type": "code",
   "execution_count": 5,
   "metadata": {},
   "outputs": [
    {
     "name": "stdout",
     "output_type": "stream",
     "text": [
      "station_id            0\n",
      "name                  0\n",
      "latitude              0\n",
      "longitude             0\n",
      "free_bikes            0\n",
      "venue_count_fsq      39\n",
      "avg_distance         39\n",
      "venue_count_yelp    904\n",
      "avg_rating          904\n",
      "avg_reviews         904\n",
      "dtype: int64\n",
      "                            OLS Regression Results                            \n",
      "==============================================================================\n",
      "Dep. Variable:             free_bikes   R-squared:                       0.145\n",
      "Model:                            OLS   Adj. R-squared:                  0.098\n",
      "Method:                 Least Squares   F-statistic:                     3.110\n",
      "Date:                Tue, 29 Jul 2025   Prob (F-statistic):             0.0122\n",
      "Time:                        08:19:34   Log-Likelihood:                -337.16\n",
      "No. Observations:                  98   AIC:                             686.3\n",
      "Df Residuals:                      92   BIC:                             701.8\n",
      "Df Model:                           5                                         \n",
      "Covariance Type:            nonrobust                                         \n",
      "====================================================================================\n",
      "                       coef    std err          t      P>|t|      [0.025      0.975]\n",
      "------------------------------------------------------------------------------------\n",
      "const               21.6200      8.911      2.426      0.017       3.922      39.318\n",
      "venue_count_fsq     -0.1013      0.159     -0.639      0.525      -0.416       0.214\n",
      "avg_distance        -0.0190      0.010     -1.864      0.065      -0.039       0.001\n",
      "venue_count_yelp    -0.8211      0.547     -1.502      0.136      -1.906       0.264\n",
      "avg_rating           2.2391      2.402      0.932      0.354      -2.531       7.010\n",
      "avg_reviews          0.0169      0.008      2.030      0.045       0.000       0.033\n",
      "==============================================================================\n",
      "Omnibus:                       43.487   Durbin-Watson:                   2.258\n",
      "Prob(Omnibus):                  0.000   Jarque-Bera (JB):              124.505\n",
      "Skew:                           1.560   Prob(JB):                     9.21e-28\n",
      "Kurtosis:                       7.556   Cond. No.                     3.40e+03\n",
      "==============================================================================\n",
      "\n",
      "Notes:\n",
      "[1] Standard Errors assume that the covariance matrix of the errors is correctly specified.\n",
      "[2] The condition number is large, 3.4e+03. This might indicate that there are\n",
      "strong multicollinearity or other numerical problems.\n"
     ]
    }
   ],
   "source": [
    "# NOTE:\n",
    "# This join is being re-run here to ensure that the regression model below uses \n",
    "# the most up-to-date and complete dataset from all sources (CityBikes, Yelp, Foursquare).\n",
    "# Ideally, this merge would belong in joining_data.ipynb, \n",
    "# but it is repeated here for modeling integrity and convenience.\n",
    "\n",
    "import pandas as pd\n",
    "\n",
    "# Load the joined dataset\n",
    "import pandas as pd\n",
    "\n",
    "df = pd.read_csv(\"../data/processed/joined_bike_venue_data.csv\")\n",
    "\n",
    "\n",
    "# Optional: Check for missing values\n",
    "print(df.isnull().sum())\n",
    "\n",
    "# Drop rows with missing values in relevant columns\n",
    "model_df = df.dropna(subset=[\n",
    "    \"venue_count_fsq\", \"avg_distance\",\n",
    "    \"venue_count_yelp\", \"avg_rating\", \"avg_reviews\",\n",
    "    \"free_bikes\"\n",
    "])\n",
    "\n",
    "# Define X (independent variables) and y (target)\n",
    "X = model_df[[\n",
    "    \"venue_count_fsq\",\n",
    "    \"avg_distance\",\n",
    "    \"venue_count_yelp\",\n",
    "    \"avg_rating\",\n",
    "    \"avg_reviews\"\n",
    "]]\n",
    "y = model_df[\"free_bikes\"]\n",
    "\n",
    "import statsmodels.api as sm\n",
    "\n",
    "# Add constant term for intercept\n",
    "X = sm.add_constant(X)\n",
    "\n",
    "# Fit OLS regression model\n",
    "model = sm.OLS(y, X).fit()\n",
    "\n",
    "# Print the results\n",
    "print(model.summary())\n",
    "\n"
   ]
  },
  {
   "cell_type": "markdown",
   "metadata": {},
   "source": [
    "Provide model output and an interpretation of the results. "
   ]
  },
  {
   "cell_type": "code",
   "execution_count": 7,
   "metadata": {},
   "outputs": [],
   "source": [
    "#The model shows that the average number of reviews of nearby businesses is positively associated with the number of available bikes at a station, and this relationship is statistically significant. Other variables such as venue counts and average ratings showed weaker or non-significant relationships.\n",
    "\n",
    "#While the model explains ~15% of the variation in free bike availability, this is reasonable given the real-time, volatile nature of the data. With more temporal context (e.g., time of day, day of week), the model's performance could improve."
   ]
  },
  {
   "cell_type": "markdown",
   "metadata": {},
   "source": [
    "# Stretch"
   ]
  },
  {
   "cell_type": "markdown",
   "metadata": {},
   "source": [
    "How can you turn the regression model into a classification model?"
   ]
  },
  {
   "cell_type": "code",
   "execution_count": 1,
   "metadata": {},
   "outputs": [],
   "source": [
    "#I would look at reframing this into a classification model to possibly predict whether a given station will have low bike availability (e.g., fewer than 3 bikes)"
   ]
  },
  {
   "cell_type": "code",
   "execution_count": null,
   "metadata": {},
   "outputs": [],
   "source": []
  }
 ],
 "metadata": {
  "kernelspec": {
   "display_name": "Python 3 (ipykernel)",
   "language": "python",
   "name": "python3"
  },
  "language_info": {
   "codemirror_mode": {
    "name": "ipython",
    "version": 3
   },
   "file_extension": ".py",
   "mimetype": "text/x-python",
   "name": "python",
   "nbconvert_exporter": "python",
   "pygments_lexer": "ipython3",
   "version": "3.13.5"
  }
 },
 "nbformat": 4,
 "nbformat_minor": 4
}
