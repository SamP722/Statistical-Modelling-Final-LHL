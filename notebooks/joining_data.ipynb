{
 "cells": [
  {
   "cell_type": "markdown",
   "metadata": {},
   "source": [
    "Join the Data from part one and part two. "
   ]
  },
  {
   "cell_type": "code",
   "execution_count": 1,
   "metadata": {
    "scrolled": true
   },
   "outputs": [
    {
     "name": "stdout",
     "output_type": "stream",
     "text": [
      "✅ Final joined dataset saved to ../data/processed/joined_bike_venue_data.csv\n",
      "Joined dataset shape: (1004, 10)\n"
     ]
    },
    {
     "data": {
      "text/html": [
       "<div>\n",
       "<style scoped>\n",
       "    .dataframe tbody tr th:only-of-type {\n",
       "        vertical-align: middle;\n",
       "    }\n",
       "\n",
       "    .dataframe tbody tr th {\n",
       "        vertical-align: top;\n",
       "    }\n",
       "\n",
       "    .dataframe thead th {\n",
       "        text-align: right;\n",
       "    }\n",
       "</style>\n",
       "<table border=\"1\" class=\"dataframe\">\n",
       "  <thead>\n",
       "    <tr style=\"text-align: right;\">\n",
       "      <th></th>\n",
       "      <th>station_id</th>\n",
       "      <th>name</th>\n",
       "      <th>latitude</th>\n",
       "      <th>longitude</th>\n",
       "      <th>free_bikes</th>\n",
       "      <th>venue_count_fsq</th>\n",
       "      <th>avg_distance</th>\n",
       "      <th>venue_count_yelp</th>\n",
       "      <th>avg_rating</th>\n",
       "      <th>avg_reviews</th>\n",
       "    </tr>\n",
       "  </thead>\n",
       "  <tbody>\n",
       "    <tr>\n",
       "      <th>0</th>\n",
       "      <td>0013e5d100f68121835052a381ab2f23</td>\n",
       "      <td>Métro de l'Église (Ross / de l'Église)</td>\n",
       "      <td>45.462831</td>\n",
       "      <td>-73.565938</td>\n",
       "      <td>7</td>\n",
       "      <td>20.0</td>\n",
       "      <td>217.250000</td>\n",
       "      <td>20.0</td>\n",
       "      <td>4.22500</td>\n",
       "      <td>29.5500</td>\n",
       "    </tr>\n",
       "    <tr>\n",
       "      <th>1</th>\n",
       "      <td>0040082e616edec293c0c74fcbf825c4</td>\n",
       "      <td>Square-Victoria (Viger / du Square-Victoria)</td>\n",
       "      <td>45.502085</td>\n",
       "      <td>-73.562941</td>\n",
       "      <td>32</td>\n",
       "      <td>20.0</td>\n",
       "      <td>176.000000</td>\n",
       "      <td>20.0</td>\n",
       "      <td>4.41500</td>\n",
       "      <td>303.9000</td>\n",
       "    </tr>\n",
       "    <tr>\n",
       "      <th>2</th>\n",
       "      <td>00b7595b843f69c9041fca9e4e84700b</td>\n",
       "      <td>Hudson / Goyer</td>\n",
       "      <td>45.507437</td>\n",
       "      <td>-73.632658</td>\n",
       "      <td>7</td>\n",
       "      <td>3.0</td>\n",
       "      <td>369.666667</td>\n",
       "      <td>20.0</td>\n",
       "      <td>4.13500</td>\n",
       "      <td>23.1000</td>\n",
       "    </tr>\n",
       "    <tr>\n",
       "      <th>3</th>\n",
       "      <td>00c210cb99cf9d1b923c1548938aee56</td>\n",
       "      <td>Marché Jean-Talon (Casgrain / Shamrock)</td>\n",
       "      <td>45.535190</td>\n",
       "      <td>-73.615482</td>\n",
       "      <td>3</td>\n",
       "      <td>20.0</td>\n",
       "      <td>147.050000</td>\n",
       "      <td>20.0</td>\n",
       "      <td>4.35500</td>\n",
       "      <td>48.0000</td>\n",
       "    </tr>\n",
       "    <tr>\n",
       "      <th>4</th>\n",
       "      <td>00c84f03ca5970eaa144ed6867d1e2b9</td>\n",
       "      <td>du Fort Saint-Louis / de la Perrière</td>\n",
       "      <td>45.613330</td>\n",
       "      <td>-73.451540</td>\n",
       "      <td>12</td>\n",
       "      <td>5.0</td>\n",
       "      <td>219.000000</td>\n",
       "      <td>16.0</td>\n",
       "      <td>2.05625</td>\n",
       "      <td>3.1875</td>\n",
       "    </tr>\n",
       "  </tbody>\n",
       "</table>\n",
       "</div>"
      ],
      "text/plain": [
       "                         station_id  \\\n",
       "0  0013e5d100f68121835052a381ab2f23   \n",
       "1  0040082e616edec293c0c74fcbf825c4   \n",
       "2  00b7595b843f69c9041fca9e4e84700b   \n",
       "3  00c210cb99cf9d1b923c1548938aee56   \n",
       "4  00c84f03ca5970eaa144ed6867d1e2b9   \n",
       "\n",
       "                                           name   latitude  longitude  \\\n",
       "0        Métro de l'Église (Ross / de l'Église)  45.462831 -73.565938   \n",
       "1  Square-Victoria (Viger / du Square-Victoria)  45.502085 -73.562941   \n",
       "2                                Hudson / Goyer  45.507437 -73.632658   \n",
       "3       Marché Jean-Talon (Casgrain / Shamrock)  45.535190 -73.615482   \n",
       "4          du Fort Saint-Louis / de la Perrière  45.613330 -73.451540   \n",
       "\n",
       "   free_bikes  venue_count_fsq  avg_distance  venue_count_yelp  avg_rating  \\\n",
       "0           7             20.0    217.250000              20.0     4.22500   \n",
       "1          32             20.0    176.000000              20.0     4.41500   \n",
       "2           7              3.0    369.666667              20.0     4.13500   \n",
       "3           3             20.0    147.050000              20.0     4.35500   \n",
       "4          12              5.0    219.000000              16.0     2.05625   \n",
       "\n",
       "   avg_reviews  \n",
       "0      29.5500  \n",
       "1     303.9000  \n",
       "2      23.1000  \n",
       "3      48.0000  \n",
       "4       3.1875  "
      ]
     },
     "metadata": {},
     "output_type": "display_data"
    }
   ],
   "source": [
    "import pandas as pd\n",
    "\n",
    "# Load base CityBikes station data\n",
    "stations_df = pd.read_csv(\"../data/processed/stations_df.csv\")\n",
    "stations_df = stations_df.rename(columns={\"id\": \"station_id\"})\n",
    "stations_df[\"station_id\"] = stations_df[\"station_id\"].astype(str)\n",
    "\n",
    "# Load POI summaries\n",
    "fsq_summary = pd.read_csv(\"../data/processed/foursquare_summary.csv\")\n",
    "yelp_summary = pd.read_csv(\"../data/processed/yelp_summary.csv\")\n",
    "fsq_summary[\"station_id\"] = fsq_summary[\"station_id\"].astype(str)\n",
    "yelp_summary[\"station_id\"] = yelp_summary[\"station_id\"].astype(str)\n",
    "\n",
    "# Merge all datasets\n",
    "joined_df = stations_df.merge(fsq_summary, on=\"station_id\", how=\"left\")\n",
    "joined_df = joined_df.merge(yelp_summary, on=\"station_id\", how=\"left\", suffixes=(\"_fsq\", \"_yelp\"))\n",
    "\n",
    "# Save final merged dataset\n",
    "joined_df.to_csv(\"../data/processed/joined_bike_venue_data.csv\", index=False)\n",
    "print(\"Final joined dataset saved to ../data/processed/joined_bike_venue_data.csv\")\n",
    "\n",
    "# Optional: Preview shape and head\n",
    "print(f\"Joined dataset shape: {joined_df.shape}\")\n",
    "display(joined_df.head())\n",
    "\n"
   ]
  },
  {
   "cell_type": "code",
   "execution_count": 3,
   "metadata": {},
   "outputs": [
    {
     "name": "stdout",
     "output_type": "stream",
     "text": [
      "Requirement already satisfied: seaborn in /opt/miniconda3/lib/python3.13/site-packages (0.13.2)\n",
      "Requirement already satisfied: numpy!=1.24.0,>=1.20 in /opt/miniconda3/lib/python3.13/site-packages (from seaborn) (2.3.1)\n",
      "Requirement already satisfied: pandas>=1.2 in /opt/miniconda3/lib/python3.13/site-packages (from seaborn) (2.3.1)\n",
      "Requirement already satisfied: matplotlib!=3.6.1,>=3.4 in /opt/miniconda3/lib/python3.13/site-packages (from seaborn) (3.10.3)\n",
      "Requirement already satisfied: contourpy>=1.0.1 in /opt/miniconda3/lib/python3.13/site-packages (from matplotlib!=3.6.1,>=3.4->seaborn) (1.3.3)\n",
      "Requirement already satisfied: cycler>=0.10 in /opt/miniconda3/lib/python3.13/site-packages (from matplotlib!=3.6.1,>=3.4->seaborn) (0.12.1)\n",
      "Requirement already satisfied: fonttools>=4.22.0 in /opt/miniconda3/lib/python3.13/site-packages (from matplotlib!=3.6.1,>=3.4->seaborn) (4.59.0)\n",
      "Requirement already satisfied: kiwisolver>=1.3.1 in /opt/miniconda3/lib/python3.13/site-packages (from matplotlib!=3.6.1,>=3.4->seaborn) (1.4.8)\n",
      "Requirement already satisfied: packaging>=20.0 in /opt/miniconda3/lib/python3.13/site-packages (from matplotlib!=3.6.1,>=3.4->seaborn) (24.2)\n",
      "Requirement already satisfied: pillow>=8 in /opt/miniconda3/lib/python3.13/site-packages (from matplotlib!=3.6.1,>=3.4->seaborn) (11.3.0)\n",
      "Requirement already satisfied: pyparsing>=2.3.1 in /opt/miniconda3/lib/python3.13/site-packages (from matplotlib!=3.6.1,>=3.4->seaborn) (3.2.3)\n",
      "Requirement already satisfied: python-dateutil>=2.7 in /opt/miniconda3/lib/python3.13/site-packages (from matplotlib!=3.6.1,>=3.4->seaborn) (2.9.0.post0)\n",
      "Requirement already satisfied: pytz>=2020.1 in /opt/miniconda3/lib/python3.13/site-packages (from pandas>=1.2->seaborn) (2025.2)\n",
      "Requirement already satisfied: tzdata>=2022.7 in /opt/miniconda3/lib/python3.13/site-packages (from pandas>=1.2->seaborn) (2025.2)\n",
      "Requirement already satisfied: six>=1.5 in /opt/miniconda3/lib/python3.13/site-packages (from python-dateutil>=2.7->matplotlib!=3.6.1,>=3.4->seaborn) (1.17.0)\n"
     ]
    },
    {
     "data": {
      "image/png": "[encoded data removed]",
      "text/plain": [
       "<Figure size 800x500 with 1 Axes>"
      ]
     },
     "metadata": {},
     "output_type": "display_data"
    },
    {
     "data": {
      "image/png": "[encoded data removed]",
      "text/plain": [
       "<Figure size 750x500 with 1 Axes>"
      ]
     },
     "metadata": {},
     "output_type": "display_data"
    }
   ],
   "source": [
    "#Provide a visualization that you used as part of your EDA process. Explain the initial pattern or relationship you discoved through this visualization. \n",
    "\n",
    "!pip install seaborn\n",
    "import pandas as pd\n",
    "import seaborn as sns\n",
    "import matplotlib.pyplot as plt\n",
    "\n",
    "# Load the joined data\n",
    "df = pd.read_csv(\"../data/processed/joined_bike_venue_data.csv\")\n",
    "\n",
    "\n",
    "fsq_df = df.dropna(subset=[\"venue_count_fsq\", \"free_bikes\"])\n",
    "yelp_df = df.dropna(subset=[\"venue_count_yelp\", \"free_bikes\"])\n",
    "\n",
    "# Drop rows with missing values in relevant columns\n",
    "yelp_df = df.dropna(subset=[\"venue_count_yelp\", \"free_bikes\"])\n",
    "\n",
    "# Set plot size and style\n",
    "plt.figure(figsize=(8, 5))\n",
    "sns.set_style(\"whitegrid\")\n",
    "\n",
    "# Scatterplot: venue count vs. free bikes\n",
    "sns.scatterplot(\n",
    "    data=yelp_df,\n",
    "    x=\"venue_count_yelp\",\n",
    "    y=\"free_bikes\",\n",
    "    alpha=0.6\n",
    ")\n",
    "\n",
    "plt.title(\"Yelp: Number of Free Bikes vs. Nearby Restaurants\")\n",
    "plt.xlabel(\"Yelp Venue Count (within 1km)\")\n",
    "plt.ylabel(\"Number of Free Bikes\")\n",
    "plt.tight_layout()\n",
    "plt.show()\n",
    "\n",
    "sns.lmplot(\n",
    "    data=yelp_df,\n",
    "    x=\"venue_count_yelp\",\n",
    "    y=\"free_bikes\",\n",
    "    height=5,\n",
    "    aspect=1.5,\n",
    "    scatter_kws={\"alpha\": 0.6}\n",
    ")\n",
    "plt.title(\"Yelp: Free Bikes vs. Nearby Restaurant Count with Trend Line\")\n",
    "plt.xlabel(\"Yelp Venue Count\")\n",
    "plt.ylabel(\"Free Bikes\")\n",
    "plt.tight_layout()\n",
    "\n"
   ]
  },
  {
   "cell_type": "markdown",
   "metadata": {},
   "source": [
    "# Database"
   ]
  },
  {
   "cell_type": "code",
   "execution_count": null,
   "metadata": {},
   "outputs": [],
   "source": [
    "import pandas as pd import sqlite3"
   ]
  },
  {
   "cell_type": "code",
   "execution_count": 8,
   "metadata": {},
   "outputs": [
    {
     "name": "stdout",
     "output_type": "stream",
     "text": [
      "✅ SQLite database updated: 'stations' table saved to ../data/bike_project.db\n"
     ]
    }
   ],
   "source": [
    "import pandas as pd\n",
    "import sqlite3\n",
    "\n",
    "# Load the final merged dataset\n",
    "merged_df = pd.read_csv(\"../data/processed/joined_bike_venue_data.csv\")\n",
    "\n",
    "# Make sure station_id is a string for clean SQL joins\n",
    "merged_df[\"station_id\"] = merged_df[\"station_id\"].astype(str)\n",
    "\n",
    "# Create (or connect to) the SQLite database file\n",
    "conn = sqlite3.connect(\"../data/bike_project.db\")\n",
    "\n",
    "# Store the merged data in a table called 'stations'\n",
    "merged_df.to_sql(\"stations\", conn, if_exists=\"replace\", index=False)\n",
    "\n",
    "# Done\n",
    "conn.close()\n",
    "print(\"✅ SQLite database updated: 'stations' table saved to ../data/bike_project.db\")\n",
    "\n"
   ]
  },
  {
   "cell_type": "markdown",
   "metadata": {},
   "source": [
    "Look at the data before and after the join to validate your data."
   ]
  },
  {
   "cell_type": "code",
   "execution_count": 9,
   "metadata": {},
   "outputs": [
    {
     "name": "stdout",
     "output_type": "stream",
     "text": [
      "Bike stations before join: 1004\n"
     ]
    }
   ],
   "source": [
    "print(\"Bike stations before join:\", stations_df.shape[0])\n"
   ]
  },
  {
   "cell_type": "code",
   "execution_count": 10,
   "metadata": {},
   "outputs": [
    {
     "name": "stdout",
     "output_type": "stream",
     "text": [
      "Rows after join: 1004\n"
     ]
    }
   ],
   "source": [
    "print(\"Rows after join:\", joined_df.shape[0])\n"
   ]
  },
  {
   "cell_type": "code",
   "execution_count": null,
   "metadata": {},
   "outputs": [],
   "source": [
    "Data Validation Before and After Join\n",
    "Before performing the join, the original CityBikes dataset contained 1,004 bike stations.\n",
    "\n",
    "After joining in data from Foursquare and Yelp, the final merged dataset also contains 1,004 rows, confirming that no bike stations were lost in the process.\n",
    "\n",
    "We used a left join to ensure that every bike station was retained, even if some had missing POI data from Yelp or Foursquare. These missing values are expected in cases where no venues were returned by the APIs near a given station, and will be addressed during modeling."
   ]
  },
  {
   "cell_type": "code",
   "execution_count": null,
   "metadata": {},
   "outputs": [],
   "source": []
  }
 ],
 "metadata": {
  "kernelspec": {
   "display_name": "Python 3 (ipykernel)",
   "language": "python",
   "name": "python3"
  },
  "language_info": {
   "codemirror_mode": {
    "name": "ipython",
    "version": 3
   },
   "file_extension": ".py",
   "mimetype": "text/x-python",
   "name": "python",
   "nbconvert_exporter": "python",
   "pygments_lexer": "ipython3",
   "version": "3.13.5"
  }
 },
 "nbformat": 4,
 "nbformat_minor": 4
}
